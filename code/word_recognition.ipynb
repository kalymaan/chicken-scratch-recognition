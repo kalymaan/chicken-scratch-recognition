{
 "cells": [
  {
   "cell_type": "code",
   "execution_count": 1,
   "id": "1cdebc64-8520-446d-bb43-3b15922721e8",
   "metadata": {
    "tags": []
   },
   "outputs": [],
   "source": [
    "import pandas as pd\n",
    "import matplotlib.pyplot as plt\n",
    "import tensorflow as tf\n",
    "import numpy as np\n",
    "import os\n",
    "\n",
    "from tensorflow.keras.layers import StringLookup\n",
    "from tensorflow import keras\n",
    "\n",
    "from PIL import Image\n",
    "\n",
    "import pickle"
   ]
  },
  {
   "cell_type": "markdown",
   "id": "f207d18c-3f24-4d04-bac0-efaeb43fb4d2",
   "metadata": {},
   "source": [
    "The logic and the model for this notebook have been heavily inspired by A.K. Nain and Sayak Paul's Keras 'examples' contribution. [Here's a link](https://keras.io/examples/vision/handwriting_recognition/)"
   ]
  },
  {
   "cell_type": "markdown",
   "id": "25c9e023-cd37-4cfe-97ca-6ae693e96e33",
   "metadata": {},
   "source": [
    "# Preparing and Preprocessing Data"
   ]
  },
  {
   "cell_type": "markdown",
   "id": "5fe0ca51-4f0c-490c-b450-0c22144f8a27",
   "metadata": {},
   "source": [
    "The data set has 2 sections. 'words.txt' is the first section where it lists the file name, and then the corresponding information"
   ]
  },
  {
   "cell_type": "markdown",
   "id": "32576e7d-dc9b-4ff0-aa52-f6bcf26ef5b7",
   "metadata": {},
   "source": [
    "format: a01-000u-00-00 ok 154 1 408 768 27 51 AT A\n",
    "\n",
    "     - a01-000u-00-00  -> word id for line 00 in form a01-000u (file name)\n",
    "     - ok              -> result of word segmentation\n",
    "                            ok: word was correctly\n",
    "                            err: segmentation of word can be bad\n",
    "\n",
    "     - 154             -> graylevel to binarize the line containing this word\n",
    "     - 1               -> number of components for this word\n",
    "     - 408 768 27 51   -> bounding box around this word in x,y,w,h format\n",
    "     - AT              -> the grammatical tag for this word, see the\n",
    "                        file tagset.txt for an explanation\n",
    "     - A               -> the transcription for this word"
   ]
  },
  {
   "cell_type": "markdown",
   "id": "8f24f690-6e04-477f-92cf-88ca665f5263",
   "metadata": {},
   "source": [
    "Data (data/words.tgz) downloaded from [IAM Database](https://fki.tic.heia-fr.ch/databases/download-the-iam-handwriting-database)"
   ]
  },
  {
   "cell_type": "code",
   "execution_count": 2,
   "id": "38751646-84fe-4476-bc45-027343e4311f",
   "metadata": {
    "tags": []
   },
   "outputs": [],
   "source": [
    "base_path = '../data/IAM_Words'"
   ]
  },
  {
   "cell_type": "code",
   "execution_count": 3,
   "id": "fde5b1f8-5321-4d07-9fe0-1c9602f323fc",
   "metadata": {
    "tags": []
   },
   "outputs": [],
   "source": [
    "words_list = []\n",
    "\n",
    "words = open(f'{base_path}/words.txt', 'r').readlines()\n",
    "for line in words: # go line by line\n",
    "    if (line[0] != \"#\") and (line.split()[1] != \"err\"): # lines that begin with #, are useless. Ignoring errored entries as well\n",
    "        \n",
    "        words_list.append(line)\n",
    "        "
   ]
  },
  {
   "cell_type": "markdown",
   "id": "bcabfff2-d69d-49d4-a29d-604a56fbb3fc",
   "metadata": {},
   "source": [
    "96,456 handwritten words - note that words_list is just the 'keys' of the images. We will be accessing the actual images through a function that exploits the file structure of the data"
   ]
  },
  {
   "cell_type": "code",
   "execution_count": 4,
   "id": "9a46a4f1-aceb-4a50-8451-e4a6e6936f0c",
   "metadata": {
    "tags": []
   },
   "outputs": [
    {
     "data": {
      "text/plain": [
       "96456"
      ]
     },
     "execution_count": 4,
     "metadata": {},
     "output_type": "execute_result"
    }
   ],
   "source": [
    "len(words_list)"
   ]
  },
  {
   "cell_type": "markdown",
   "id": "1833d0a5-f4e1-43d1-a36a-4e5ceee971ae",
   "metadata": {},
   "source": [
    "Let's look at the contents of words.txt in a df"
   ]
  },
  {
   "cell_type": "code",
   "execution_count": 5,
   "id": "59284497-c263-497d-9102-60c81f10d41e",
   "metadata": {
    "tags": []
   },
   "outputs": [
    {
     "data": {
      "text/html": [
       "<div>\n",
       "<style scoped>\n",
       "    .dataframe tbody tr th:only-of-type {\n",
       "        vertical-align: middle;\n",
       "    }\n",
       "\n",
       "    .dataframe tbody tr th {\n",
       "        vertical-align: top;\n",
       "    }\n",
       "\n",
       "    .dataframe thead th {\n",
       "        text-align: right;\n",
       "    }\n",
       "</style>\n",
       "<table border=\"1\" class=\"dataframe\">\n",
       "  <thead>\n",
       "    <tr style=\"text-align: right;\">\n",
       "      <th></th>\n",
       "      <th>word_id</th>\n",
       "      <th>x</th>\n",
       "      <th>y</th>\n",
       "      <th>w</th>\n",
       "      <th>h</th>\n",
       "      <th>word</th>\n",
       "    </tr>\n",
       "  </thead>\n",
       "  <tbody>\n",
       "    <tr>\n",
       "      <th>0</th>\n",
       "      <td>a01-000u-00-00</td>\n",
       "      <td>408</td>\n",
       "      <td>768</td>\n",
       "      <td>27</td>\n",
       "      <td>51</td>\n",
       "      <td>A</td>\n",
       "    </tr>\n",
       "    <tr>\n",
       "      <th>1</th>\n",
       "      <td>a01-000u-00-01</td>\n",
       "      <td>507</td>\n",
       "      <td>766</td>\n",
       "      <td>213</td>\n",
       "      <td>48</td>\n",
       "      <td>MOVE</td>\n",
       "    </tr>\n",
       "    <tr>\n",
       "      <th>2</th>\n",
       "      <td>a01-000u-00-02</td>\n",
       "      <td>796</td>\n",
       "      <td>764</td>\n",
       "      <td>70</td>\n",
       "      <td>50</td>\n",
       "      <td>to</td>\n",
       "    </tr>\n",
       "    <tr>\n",
       "      <th>3</th>\n",
       "      <td>a01-000u-00-03</td>\n",
       "      <td>919</td>\n",
       "      <td>757</td>\n",
       "      <td>166</td>\n",
       "      <td>78</td>\n",
       "      <td>stop</td>\n",
       "    </tr>\n",
       "    <tr>\n",
       "      <th>4</th>\n",
       "      <td>a01-000u-00-04</td>\n",
       "      <td>1185</td>\n",
       "      <td>754</td>\n",
       "      <td>126</td>\n",
       "      <td>61</td>\n",
       "      <td>Mr.</td>\n",
       "    </tr>\n",
       "  </tbody>\n",
       "</table>\n",
       "</div>"
      ],
      "text/plain": [
       "          word_id     x    y    w   h  word\n",
       "0  a01-000u-00-00   408  768   27  51     A\n",
       "1  a01-000u-00-01   507  766  213  48  MOVE\n",
       "2  a01-000u-00-02   796  764   70  50    to\n",
       "3  a01-000u-00-03   919  757  166  78  stop\n",
       "4  a01-000u-00-04  1185  754  126  61   Mr."
      ]
     },
     "execution_count": 5,
     "metadata": {},
     "output_type": "execute_result"
    }
   ],
   "source": [
    "bigL = []\n",
    "for line in words_list:\n",
    "    w_dict = {}\n",
    "    l = line.strip().split()\n",
    "    w_dict['word_id'] = l[0]\n",
    "    #w_dict['seg_result'] = l[1]\n",
    "    #w_dict['gray_level'] = l[2]\n",
    "    w_dict['x'] = int(l[3])\n",
    "    w_dict['y'] = int(l[4])\n",
    "    w_dict['w'] = int(l[5])\n",
    "    w_dict['h'] = int(l[6])\n",
    "    #w_dict['grammatical_tag'] = l[7]\n",
    "    w_dict['word'] = l[8]\n",
    "    \n",
    "    bigL.append(w_dict)\n",
    "    \n",
    "df = pd.DataFrame(bigL)\n",
    "df.head()\n",
    "    "
   ]
  },
  {
   "cell_type": "markdown",
   "id": "a032cdc9-5c68-4bf1-9e3a-28f1b9934ba3",
   "metadata": {},
   "source": [
    "The x,y,w,h follows the keras bounding box format where :\n",
    "\n",
    "- X: X coordinate of the left of the bounding box\n",
    "- Y: Y coordinate of the top of the bounding box\n",
    "- WIDTH: width of the bounding box\n",
    "- HEIGHT: height of the bounding box\n",
    "\n",
    "\n",
    "Here are the distributions of width and height of each image"
   ]
  },
  {
   "cell_type": "code",
   "execution_count": 6,
   "id": "8c38768a-22a2-4f2c-a306-f1496cacb055",
   "metadata": {
    "tags": []
   },
   "outputs": [
    {
     "data": {
      "image/png": "[encoded data removed]",
      "text/plain": [
       "<Figure size 640x480 with 1 Axes>"
      ]
     },
     "metadata": {},
     "output_type": "display_data"
    }
   ],
   "source": [
    "df['w'].plot.hist()\n",
    "df['h'].plot.hist()\n",
    "plt.title('Distribution of sizes of images')\n",
    "plt.legend();"
   ]
  },
  {
   "cell_type": "markdown",
   "id": "b8940d81-411b-4069-b506-be42ba93615f",
   "metadata": {},
   "source": [
    "As expected, most of the data set has a relativelty large widht(relative to height). They are mostly all rectangular(horizontal) in nature."
   ]
  },
  {
   "cell_type": "code",
   "execution_count": 7,
   "id": "5641fa54-0e40-4c5c-afba-2565bb0b1bb4",
   "metadata": {
    "tags": []
   },
   "outputs": [
    {
     "name": "stdout",
     "output_type": "stream",
     "text": [
      "Average width: 156.63427884216637 | Average height: 69.79688147963839\n"
     ]
    }
   ],
   "source": [
    "average_width = df['w'].mean()\n",
    "average_height = df['h'].mean()\n",
    "\n",
    "print(f'Average width: {average_width} | Average height: {average_height}')"
   ]
  },
  {
   "cell_type": "markdown",
   "id": "c38bc36d-ad0d-46ed-b874-54d8c45149c4",
   "metadata": {},
   "source": [
    "## Train-Validation-Test Split"
   ]
  },
  {
   "cell_type": "markdown",
   "id": "e8c2e67e-a630-4b48-94e2-839267d3220b",
   "metadata": {},
   "source": [
    "First scrambling the 'keys'"
   ]
  },
  {
   "cell_type": "code",
   "execution_count": 8,
   "id": "81050fd2-dc72-4252-87b3-a55a4cf4e067",
   "metadata": {
    "tags": []
   },
   "outputs": [],
   "source": [
    "np.random.shuffle(words_list)"
   ]
  },
  {
   "cell_type": "markdown",
   "id": "f1391111-990b-43f8-9b58-b922f5a132c9",
   "metadata": {},
   "source": [
    "Now I'm splitting the data. \n",
    "\n",
    "90% will be used for training"
   ]
  },
  {
   "cell_type": "code",
   "execution_count": 9,
   "id": "c6726dfa-e2d8-4061-8fc4-58c70d852072",
   "metadata": {
    "tags": []
   },
   "outputs": [],
   "source": [
    "split = int(0.9 * len(words_list)) # index to split train on\n",
    "train = words_list[:split] # shuffled already so this is ok\n",
    "test = words_list[split:]"
   ]
  },
  {
   "cell_type": "markdown",
   "id": "773df4d1-5cde-440e-b5df-8d7c739ed4c8",
   "metadata": {},
   "source": [
    "The remaining test, will be split in half; test and val. The model will never see the new test"
   ]
  },
  {
   "cell_type": "code",
   "execution_count": 10,
   "id": "c99a4835-79b6-4c60-9e4e-876f7e9f2a12",
   "metadata": {
    "tags": []
   },
   "outputs": [],
   "source": [
    "test_split = int(0.5 * len(test))\n",
    "val = test[:test_split]\n",
    "test= test[test_split:]"
   ]
  },
  {
   "cell_type": "code",
   "execution_count": 11,
   "id": "a48790e9-b419-408a-8f08-c01952f43f64",
   "metadata": {
    "tags": []
   },
   "outputs": [
    {
     "data": {
      "text/plain": [
       "'h04-071-02-11 ok 163 1759 1075 144 72 AP Most\\n'"
      ]
     },
     "execution_count": 11,
     "metadata": {},
     "output_type": "execute_result"
    }
   ],
   "source": [
    "train[4]"
   ]
  },
  {
   "cell_type": "markdown",
   "id": "72659f8a-fcf5-4b78-844c-aca8fc7e2262",
   "metadata": {},
   "source": [
    "## Navigating the file structure of IAM Words"
   ]
  },
  {
   "cell_type": "markdown",
   "id": "bc9a4c0e-b76c-419e-a44f-1fcf777ef899",
   "metadata": {},
   "source": [
    "Again, words_list, train, test, and val are all 'pointers'/'keys' that point towards the actual image files"
   ]
  },
  {
   "cell_type": "code",
   "execution_count": 12,
   "id": "ca700ab2-8860-4bb5-890a-62ab942670fb",
   "metadata": {
    "tags": []
   },
   "outputs": [],
   "source": [
    "base_images_path = os.path.join(base_path, 'words')"
   ]
  },
  {
   "cell_type": "markdown",
   "id": "b9a146ec-597b-4ad6-8e10-72df573e5dab",
   "metadata": {},
   "source": [
    "First, here's a function that extracts the filepath names and labels"
   ]
  },
  {
   "cell_type": "code",
   "execution_count": 13,
   "id": "e9e95e5b-c250-473b-8bb2-fe55acc6a005",
   "metadata": {
    "tags": []
   },
   "outputs": [],
   "source": [
    "def get_paths_and_labels(IAM_keys):\n",
    "    '''\n",
    "    Input: IAM_keys = train, val, or test\n",
    "    Output: paths, labels\n",
    "            paths: full paths to access the png images\n",
    "            labels: corresponding label for each image\n",
    "    \n",
    "    '''\n",
    "    paths = []\n",
    "    labels = []\n",
    "    for key in IAM_keys:\n",
    "        \n",
    "        key_info = key.strip().split() # the strip is for the '\\n'\n",
    "\n",
    "        # Each line split will have this format for the corresponding image:\n",
    "        # train[4] is 'g06-045d-05-10 ok 182 2008 1609 187 75 NP Samuel\\n'\n",
    "        # the corresponding file path is words/g06/g06-045d/g06-045d-05-10.png .. which is all gained from the first element of the split() string\n",
    "        \n",
    "        img_name = key_info[0] # img_name is now d06-003-04-04 (using above example)\n",
    "        \n",
    "        pseudo_name = img_name.split(\"-\")\n",
    "        folder_1 = pseudo_name[0]\n",
    "        folder_2 = pseudo_name[0] + '-' + pseudo_name[1]\n",
    "        img_name += '.png'\n",
    "        \n",
    "        img_path = os.path.join(\n",
    "            base_images_path, \n",
    "            folder_1, \n",
    "            folder_2, \n",
    "            img_name\n",
    "        )\n",
    "        \n",
    "        paths.append(img_path)\n",
    "        labels.append(key_info[-1]) # We just need the word, which is the last element\n",
    "        \n",
    "\n",
    "    return paths, labels"
   ]
  },
  {
   "cell_type": "code",
   "execution_count": 14,
   "id": "90ee7ad8-ef6d-4eaa-bb3d-632a248ff0e6",
   "metadata": {
    "tags": []
   },
   "outputs": [],
   "source": [
    "train_paths, train_labels = get_paths_and_labels(train)\n",
    "val_paths, validation_labels = get_paths_and_labels(val)\n",
    "test_paths, test_labels = get_paths_and_labels(test)"
   ]
  },
  {
   "cell_type": "markdown",
   "id": "20a6efef-49bc-4177-be33-4b1b54bdbfec",
   "metadata": {},
   "source": [
    "Here's an example of a cleaned label, path, and the corresponding image"
   ]
  },
  {
   "cell_type": "code",
   "execution_count": 15,
   "id": "a56cbeaf-89f5-4e12-a056-e5c64c657556",
   "metadata": {
    "tags": []
   },
   "outputs": [
    {
     "name": "stdout",
     "output_type": "stream",
     "text": [
      "Label : Most\n",
      "Path : ../data/IAM_Words\\words\\h04\\h04-071\\h04-071-02-11.png\n"
     ]
    },
    {
     "data": {
      "image/png": "[encoded data removed]",
      "text/plain": [
       "<Figure size 640x480 with 1 Axes>"
      ]
     },
     "metadata": {},
     "output_type": "display_data"
    }
   ],
   "source": [
    "print(f'Label : {train_labels[4]}')\n",
    "print(f'Path : {train_paths[4]}')\n",
    "\n",
    "plt.imshow(Image.open(train_paths[4]), cmap='gray')\n",
    "plt.title('Corresponding Image')\n",
    "plt.show();"
   ]
  },
  {
   "cell_type": "markdown",
   "id": "972cbd78-6654-43eb-a021-7f2a242fee44",
   "metadata": {},
   "source": [
    "Here's a sneak peak of my handwriting. I found that using the .convert('L') on the PIL image, helps force the image to true grayscale mode -- usefule later for preprocessing"
   ]
  },
  {
   "cell_type": "code",
   "execution_count": 16,
   "id": "efb46026-db18-4b53-958c-e4975711f305",
   "metadata": {
    "tags": []
   },
   "outputs": [
    {
     "data": {
      "image/png": "[encoded data removed]",
      "text/plain": [
       "<Figure size 640x480 with 1 Axes>"
      ]
     },
     "metadata": {},
     "output_type": "display_data"
    }
   ],
   "source": [
    "test_image_path = '../media/test_images/normal_4.PNG'\n",
    "plt.imshow(Image.open(test_image_path).convert('L'), cmap='gray')\n",
    "plt.title('My handwritten Image')\n",
    "plt.show();"
   ]
  },
  {
   "cell_type": "markdown",
   "id": "87596f79-05b4-4563-8365-8d1edcc56b42",
   "metadata": {
    "tags": []
   },
   "source": [
    "## Preprocessing"
   ]
  },
  {
   "cell_type": "markdown",
   "id": "830ba363-dbf4-4fdd-8afb-f78c0c8acf9c",
   "metadata": {},
   "source": [
    "### Preprocessing Images"
   ]
  },
  {
   "cell_type": "markdown",
   "id": "308f4fb0-e5d0-44ea-ac45-8d15f7472181",
   "metadata": {},
   "source": [
    "This is the function that preprocesses the image. Please read comments to see the methods and steps of the preprocessing pipeline. [Used this](https://keras.io/guides/preprocessing_layers/) to get logic"
   ]
  },
  {
   "cell_type": "code",
   "execution_count": 17,
   "id": "7bd45db2-f013-4fca-9b2c-e5be46cef98b",
   "metadata": {
    "tags": []
   },
   "outputs": [],
   "source": [
    "def preprocess_image(image_path, img_size=(128,32), flip=True):\n",
    "    '''\n",
    "    Reads image from path provided, and preprocesses it.\n",
    "    \n",
    "    Input: image_path - file path of a png, jpeg, or non-animated gif\n",
    "           img_size - tuple of (new width, new Height). dimensions that the image will be resized to - set to 128,32 as default\n",
    "           flip - boolean flag to denote if transposing and flipping is required - set to True as default\n",
    "    \n",
    "    Output: preprocessed(resized,padded,normalized) image tensor of shape (128, 32, 1) \n",
    "    '''\n",
    "    # Setting the width and height of the goal image\n",
    "    w, h = img_size\n",
    "    \n",
    "    # Get the file\n",
    "    file = tf.io.read_file(image_path)\n",
    "    \n",
    "    # turn it into a grayscale image tensor that's easy for tf to use\n",
    "    image_tensor = tf.image.decode_png(file, 1)\n",
    "    \n",
    "    \n",
    "    # Resize the image into the provided width and height rectangle. \n",
    "    resized_image = tf.image.resize(image_tensor, \n",
    "                                    size=(h, w), # A 1-D int32 Tensor of 2 elements: new_height, new_width. The new size for the images.\n",
    "                                    preserve_aspect_ratio=True # don't want to stretch it\n",
    "                                    ) \n",
    "    \n",
    "    # Now that image is resized, we need to determine the padding.\n",
    "    \n",
    "    # Check the amount of padding needed to be done .. tf.shape - gives (h,w)\n",
    "    pad_height = h - tf.shape(resized_image)[0]  \n",
    "    pad_width = w - tf.shape(resized_image)[1]\n",
    "\n",
    "    # We want equal padding on top/bottom and left/right. This is how we determine those values\n",
    "    \n",
    "    # top and bottom padding (half top, half bottom)\n",
    "    if pad_height % 2 != 0: \n",
    "        height = pad_height // 2\n",
    "        top = height + 1\n",
    "        bottom = height\n",
    "    else:\n",
    "        top = pad_height // 2\n",
    "        bottom = top\n",
    "        \n",
    "    # now left and right padding (half left, half right)\n",
    "    if pad_width % 2 != 0:\n",
    "        width = pad_width // 2\n",
    "        left = width + 1\n",
    "        right = width\n",
    "    else:\n",
    "        left = pad_width // 2\n",
    "        right = left\n",
    "    \n",
    "    # Padding the image\n",
    "    image = tf.pad(\n",
    "        resized_image,\n",
    "        paddings = [\n",
    "            [top, bottom],\n",
    "            [left, right],\n",
    "            [0, 0], # this is to add padding to color channels. since we're working with greyscale, no change is needed\n",
    "            ],\n",
    "        )\n",
    "    \n",
    "    # if the Flip flag is true(default): \n",
    "    if flip:\n",
    "        # Transposing the image. This swaps the rows and columns of the image. It's needed for the weird way that the shapes are (h,w) rather than (w,h)\n",
    "        image = tf.transpose(image, perm=[1, 0, 2])\n",
    "    \n",
    "        # Flipping the image to account for reflection \n",
    "        image = tf.image.flip_left_right(image)\n",
    "    \n",
    "    # Finally, casting the values of the tensor to floats, then normalizing the values(by dividing each value by 255)\n",
    "    image = tf.cast(image, tf.float32) / 255.0\n",
    "    \n",
    "    return image"
   ]
  },
  {
   "cell_type": "markdown",
   "id": "414a9c74-874f-402a-bc0d-2a0ec32dd79f",
   "metadata": {},
   "source": [
    "Here are some examples of what the above function does to an image"
   ]
  },
  {
   "cell_type": "code",
   "execution_count": 18,
   "id": "6ab52997-4634-4d1c-bce1-78fcb2de00b5",
   "metadata": {
    "tags": []
   },
   "outputs": [
    {
     "data": {
      "image/png": "[encoded data removed]",
      "text/plain": [
       "<Figure size 1500x500 with 10 Axes>"
      ]
     },
     "metadata": {},
     "output_type": "display_data"
    }
   ],
   "source": [
    "plt.figure(figsize=(15, 5))\n",
    "temp_paths = train_paths[:4] + [test_image_path]\n",
    "\n",
    "for i in range(5):\n",
    "    plt.subplot(2, 5, i + 1)\n",
    "    im = Image.open(temp_paths[i]).convert('L')\n",
    "    plt.imshow(im, cmap='gray')\n",
    "    plt.title(\"Original\")\n",
    "\n",
    "for i in range(5):\n",
    "    plt.subplot(2, 5, i + 6)\n",
    "    cleaned_im = preprocess_image(temp_paths[i], flip=False)\n",
    "    plt.imshow(cleaned_im, cmap='gray')\n",
    "    plt.title(\"Preprocessed\")"
   ]
  },
  {
   "cell_type": "markdown",
   "id": "904c9ba3-3f11-4a05-bcf8-bb43def4f30d",
   "metadata": {
    "tags": []
   },
   "source": [
    "### Preprocessing Labels"
   ]
  },
  {
   "cell_type": "markdown",
   "id": "52c43680-f652-4729-a377-a0567b96e73c",
   "metadata": {},
   "source": [
    "We have to make all the labels uniform before they can be ingested by the model. So we'll have to pad the labels and 'tokenize' them as well.\n",
    "\n",
    "In order to do that, we have to find the max number of characters in a label for the entire corpus of train labels, and then, find each unique character in that corpus(characters set)"
   ]
  },
  {
   "cell_type": "code",
   "execution_count": 19,
   "id": "fbcf824c-8d98-4993-b1a1-8166cc66ae1e",
   "metadata": {
    "tags": []
   },
   "outputs": [
    {
     "name": "stdout",
     "output_type": "stream",
     "text": [
      "Max Length: 21\n",
      "Character Set: ['!', '\"', '#', '&', \"'\", '(', ')', '*', '+', ',', '-', '.', '/', '0', '1', '2', '3', '4', '5', '6', '7', '8', '9', ':', ';', '?', 'A', 'B', 'C', 'D', 'E', 'F', 'G', 'H', 'I', 'J', 'K', 'L', 'M', 'N', 'O', 'P', 'Q', 'R', 'S', 'T', 'U', 'V', 'W', 'X', 'Y', 'Z', 'a', 'b', 'c', 'd', 'e', 'f', 'g', 'h', 'i', 'j', 'k', 'l', 'm', 'n', 'o', 'p', 'q', 'r', 's', 't', 'u', 'v', 'w', 'x', 'y', 'z']\n",
      "Character Set Length: 78\n"
     ]
    }
   ],
   "source": [
    "character_set = set() \n",
    "\n",
    "lengths = [] # just a temporary list to store all the lengths of the labels\n",
    "\n",
    "for label in train_labels:\n",
    "    for char in label:\n",
    "        character_set.add(char)\n",
    "\n",
    "    lengths.append(len(label))\n",
    "\n",
    "max_len = max(lengths)\n",
    "\n",
    "print(f'Max Length: {max_len}')\n",
    "print(f'Character Set: {sorted(list(character_set))}')\n",
    "print(f'Character Set Length: {len(character_set)}')"
   ]
  },
  {
   "cell_type": "code",
   "execution_count": 20,
   "id": "b3132608-5d54-406d-90d6-29aa9b52d9c2",
   "metadata": {
    "tags": []
   },
   "outputs": [
    {
     "data": {
      "image/png": "[encoded data removed]",
      "text/plain": [
       "<Figure size 640x480 with 1 Axes>"
      ]
     },
     "metadata": {},
     "output_type": "display_data"
    }
   ],
   "source": [
    "plt.hist(lengths, bins=20)\n",
    "plt.xlabel('Length')\n",
    "plt.ylabel('Frequency')\n",
    "plt.title('Histogram of Lengths of Labels (Words)')\n",
    "\n",
    "plt.show()"
   ]
  },
  {
   "cell_type": "markdown",
   "id": "98b3b731-6042-4be8-b6c5-ac8a08621b1a",
   "metadata": {},
   "source": [
    "Here's a histogram of another OCR researcher who had a different dataset. [From Here](https://www.researchgate.net/publication/337184022_Text_classification_with_pixel_embedding)\n",
    "\n",
    "<img src = ../media/research_histogram.PNG>"
   ]
  },
  {
   "cell_type": "markdown",
   "id": "fbc3d576-39c0-4f62-b8d5-2e276543fd97",
   "metadata": {},
   "source": [
    "Just based on this, with no other information, I'm going to make an assumption that our dataset is heavily influenced by shorter words"
   ]
  },
  {
   "cell_type": "markdown",
   "id": "8b31ae39-29cb-4418-930b-f7223abc6b98",
   "metadata": {},
   "source": [
    "So there are 26 letters ( 52 lower and upper) + 10 digits + 16 punctuation chars = 78 vocab size"
   ]
  },
  {
   "cell_type": "markdown",
   "id": "2f762a12-8b1e-4f68-a01a-518dc92eff1d",
   "metadata": {},
   "source": [
    "[Used this](https://keras.io/guides/preprocessing_layers/) to create a 'tokenize' and 'untokenize' objects/mappers"
   ]
  },
  {
   "cell_type": "code",
   "execution_count": 21,
   "id": "1af50c0d-3408-4790-88be-87f48750d5e7",
   "metadata": {
    "tags": []
   },
   "outputs": [],
   "source": [
    "# Characters -> Integers\n",
    "tokenize = StringLookup(\n",
    "    vocabulary = list(character_set), \n",
    "    mask_token=None\n",
    ")\n",
    "\n",
    "# Integers -> Characters\n",
    "untokenize = StringLookup(\n",
    "    vocabulary = tokenize.get_vocabulary(), \n",
    "    mask_token=None, \n",
    "    invert=True\n",
    ")"
   ]
  },
  {
   "cell_type": "markdown",
   "id": "56608826-3a09-44d7-b793-71b48fcb9704",
   "metadata": {},
   "source": [
    "This is the utility function to preprocess the labels. [Used this](https://keras.io/guides/preprocessing_layers/) for logic"
   ]
  },
  {
   "cell_type": "code",
   "execution_count": 22,
   "id": "b3820920-bb40-42d6-bcb9-f6fc3da49d81",
   "metadata": {
    "tags": []
   },
   "outputs": [],
   "source": [
    "def vectorize_label(label, max_len=21, padding_token=99):\n",
    "    '''\n",
    "    Vectorizes the labels and pads them to the max_len amount\n",
    "    \n",
    "    Uses the tokenize function created above with StringLookup()\n",
    "    \n",
    "    Input: label - string\n",
    "           max_len - max length of total strings in dataset... found to be 21 in train\n",
    "           padding_token - what to pad the end of the word with .. default is 99\n",
    "    \n",
    "    Output: vectorized label of type _ with a shape of (21,)\n",
    "    \n",
    "    '''\n",
    "    # tokenize is the StringLookup object defined in the cell above\n",
    "    label = tokenize(tf.strings.unicode_split(label, input_encoding=\"UTF-8\")) \n",
    "    \n",
    "    # finding the actual length of the label (word)\n",
    "    length = tf.shape(label)[0]\n",
    "    \n",
    "    # determining the amount of padding required for this word\n",
    "    pad_amount = max_len - length\n",
    "    \n",
    "    # Padding\n",
    "    label = tf.pad(\n",
    "        label, \n",
    "        paddings = [\n",
    "            [0, pad_amount]# padding to the right of the words\n",
    "        ], \n",
    "        constant_values = padding_token # pads with the oov token: 99\n",
    "    )\n",
    "    return label"
   ]
  },
  {
   "cell_type": "markdown",
   "id": "90173362-1f78-4517-a02a-ecc784407d1d",
   "metadata": {},
   "source": [
    "Here's an example of what the function does"
   ]
  },
  {
   "cell_type": "code",
   "execution_count": 23,
   "id": "62de1597-0d48-4529-a960-994135d97209",
   "metadata": {
    "tags": []
   },
   "outputs": [
    {
     "name": "stdout",
     "output_type": "stream",
     "text": [
      "Original Label: to\n",
      "Processed Label: [19 34 99 99 99 99 99 99 99 99 99 99 99 99 99 99 99 99 99 99 99]\n"
     ]
    }
   ],
   "source": [
    "print(f'Original Label: {train_labels[0]}')\n",
    "print(f'Processed Label: {vectorize_label(train_labels[0])}')"
   ]
  },
  {
   "cell_type": "markdown",
   "id": "0568c83f-bec7-4c27-a954-a0ff241e3538",
   "metadata": {},
   "source": [
    "### Putting it all together"
   ]
  },
  {
   "cell_type": "markdown",
   "id": "06e111ac-544d-41f4-bba3-8ef9353b4ba1",
   "metadata": {},
   "source": [
    "Functions to combine images and labels, and get them ready for model ingestion. Utilized tensorflow's 'fetching' and batching protocols.\n",
    "\n",
    "[Used this](https://keras.io/guides/preprocessing_layers/) to get logic\n",
    "\n",
    "Walkthrough of logic is commented"
   ]
  },
  {
   "cell_type": "code",
   "execution_count": 24,
   "id": "dd178b93-0ea4-4a39-a80d-23f8d5914de7",
   "metadata": {
    "tags": []
   },
   "outputs": [],
   "source": [
    "def combine_images_labels(image_path, label):\n",
    "    '''\n",
    "    Uses the preprocess_image function. and the vectorize_label function and then combines them so that each image corresponds with it's label\n",
    "    \n",
    "    Input: image_path - path to image file\n",
    "           label - string label for the corresponding image\n",
    "\n",
    "    Output: a single dictionary with two keys(processed image and processed label)\n",
    "    '''\n",
    "    processed_image = preprocess_image(image_path)\n",
    "    processed_label = vectorize_label(label)\n",
    "    return {\"image\": processed_image, \"label\": processed_label}\n",
    "\n",
    "\n",
    "def prepare_dataset(image_paths, labels, batch_size=64, AUTOTUNE= tf.data.AUTOTUNE):\n",
    "    '''\n",
    "    Asynchronously takes in image paths and labels, \n",
    "         processes them(by calling the above function), \n",
    "         and then outputs the data as tf.PrefetchFatset objects for optimized parallelization\n",
    "         \n",
    "    Input: image_paths - list of image paths(strings)\n",
    "           labels - list of labels(strings)\n",
    "           batch_size - used to determine batching (better to use power of 2) - default is 64\n",
    "           AUTOTUNE - this is a value that tells tf what the optimal way to load data is - default is the tf.data.AUTOTUNE constant\n",
    "    \n",
    "    Output: A special datatype that only releases information piecewise(according to batch size)\n",
    "         datatype is tensorflow.python.data.ops.prefetch_op._PrefetchDataset\n",
    "         It is essentially, a series of dictionaries, where each dictionary corresponds to each image tensor-label tensor combo\n",
    "    \n",
    "    '''\n",
    "    \n",
    "    # First, create a tensor flow dataset that slices the image_paths and labels lists.\n",
    "    # the resulting tuple_dataset is a tf dataset object that has a bunch of tuples, where each tuple consists of an image path and its label.\n",
    "    # pretty much like zip()\n",
    "    tuple_dataset = tf.data.Dataset.from_tensor_slices((image_paths, labels))\n",
    "    \n",
    "    # Now we call the processing function(s) to \n",
    "    dataset = tuple_dataset.map(\n",
    "        combine_images_labels,  # applies the helper function defined above(preprocesses everything)\n",
    "        num_parallel_calls=AUTOTUNE # does it in such a way that maximizes memory efficiency\n",
    "    )\n",
    "    \n",
    "    # batches the data, \n",
    "    # caches it for faster access, \n",
    "    # and prefetches elements to ensure a smooth and efficient training process\n",
    "    return dataset.batch(batch_size).cache().prefetch(AUTOTUNE) "
   ]
  },
  {
   "cell_type": "code",
   "execution_count": 25,
   "id": "2a15b055-c431-40db-9007-d2f7c7ae147f",
   "metadata": {
    "tags": []
   },
   "outputs": [],
   "source": [
    "train_ds = prepare_dataset(train_paths, train_labels)\n",
    "val_ds = prepare_dataset(val_paths, validation_labels)\n",
    "test_ds = prepare_dataset(test_paths, test_labels)"
   ]
  },
  {
   "cell_type": "markdown",
   "id": "29d38327-f7eb-4a0b-a66b-8929a1acee9c",
   "metadata": {},
   "source": [
    "Let's take a look at the output of this function. Here's some information about the datatypes of the prefetch datasets that are outputted from the above functions."
   ]
  },
  {
   "cell_type": "code",
   "execution_count": 26,
   "id": "9bd69c49-5758-43cc-a42f-eed69c3eb78b",
   "metadata": {
    "tags": []
   },
   "outputs": [
    {
     "name": "stdout",
     "output_type": "stream",
     "text": [
      "Types of objects in dataset: <class 'dict'>\n",
      "Shape of Images(64, 128, 32, 1)\n",
      "Shape of Labels: (64, 21)\n"
     ]
    }
   ],
   "source": [
    "for data in train_ds.take(1):# take(1) is a method that just get's 1 single batch from the dataset\n",
    "    print(f'Types of objects in dataset: {type(data)}')\n",
    "    images = data['image']\n",
    "    labels = data['label']\n",
    "    print(f'Shape of Images{images.shape}')\n",
    "    print(f'Shape of Labels: {labels.shape}')\n",
    "    "
   ]
  },
  {
   "cell_type": "markdown",
   "id": "21753b91-fbc5-4989-9259-1e8918cc8bbe",
   "metadata": {},
   "source": [
    "# Modeling"
   ]
  },
  {
   "cell_type": "markdown",
   "id": "4eac0cc9-e44d-406a-b994-bbe865567904",
   "metadata": {},
   "source": [
    "The model will be using CTC Loss.\n",
    "\n",
    "<img src = ../media/model_structure.PNG>\n",
    "\n",
    "Image from [here](https://towardsdatascience.com/intuitively-understanding-connectionist-temporal-classification-3797e43a86c)\n",
    "\n",
    "CTC loss is used in sequence-to-sequence tasks where you have an input sequence (image of handwriting) and an output sequence (a sequence of characters).\n",
    "\n",
    "Here's an example of using CTC to classify words:\n",
    "\n",
    "<img src = ../media/ctc_example.PNG>\n",
    "\n",
    "Image from [here](https://sid2697.github.io/Blog_Sid/algorithm/2019/10/19/CTC-Loss.html#:~:text=Connectionist%20Temporal%20Classification%20(CTC)%20is,the%20training%20process%20more%20straightforward.)\n",
    "\n",
    "\n",
    "\n",
    "CTC loss accounts for situations where you might not have a one-to-one mapping between input and output sequences. For example, in handwritten text recognition, multiple characters might be written closely together or have gaps in between.\n",
    "\n",
    "By using CTC loss, we can train our model to handle these variations and produce the correct transcriptions.\n",
    "\n",
    "[Here's](https://distill.pub/2017/ctc/) a thorough explanation of CTC loss\n"
   ]
  },
  {
   "cell_type": "code",
   "execution_count": 27,
   "id": "6082f75d-bbd3-42e7-b018-762e9e809f93",
   "metadata": {
    "tags": []
   },
   "outputs": [],
   "source": [
    "class CTCLayer(keras.layers.Layer):\n",
    "    '''\n",
    "    Layer creation to put at the end of our model.\n",
    "    \n",
    "    Code from:\n",
    "    https://keras.io/examples/vision/handwriting_recognition/\n",
    "    '''\n",
    "    def __init__(self, name=None):\n",
    "        super().__init__(name=name)\n",
    "        self.loss_fn = keras.backend.ctc_batch_cost\n",
    "\n",
    "    def call(self, y_true, y_pred):\n",
    "        batch_len = tf.cast(tf.shape(y_true)[0], dtype=\"int64\")\n",
    "        input_length = tf.cast(tf.shape(y_pred)[1], dtype=\"int64\")\n",
    "        label_length = tf.cast(tf.shape(y_true)[1], dtype=\"int64\")\n",
    "\n",
    "        input_length = input_length * tf.ones(shape=(batch_len, 1), dtype=\"int64\")\n",
    "        label_length = label_length * tf.ones(shape=(batch_len, 1), dtype=\"int64\")\n",
    "        loss = self.loss_fn(y_true, y_pred, input_length, label_length)\n",
    "        self.add_loss(loss)\n",
    "\n",
    "        # At test time, just return the computed predictions.\n",
    "        return y_pred"
   ]
  },
  {
   "cell_type": "code",
   "execution_count": 28,
   "id": "2c97e046-3411-4499-acb9-dfce0c951438",
   "metadata": {
    "tags": []
   },
   "outputs": [],
   "source": [
    "def build_model():\n",
    "    '''\n",
    "    This model was built by  A.K.Nain and Sayak Paul.\n",
    "    \n",
    "    Source code can be found here: https://keras.io/examples/vision/handwriting_recognition/\n",
    "    \n",
    "    '''\n",
    "    image_width = 128\n",
    "    image_height = 32\n",
    "    \n",
    "    # Inputs to the model\n",
    "    input_img = keras.Input(shape=(image_width, image_height, 1), name=\"image\")\n",
    "    labels = keras.layers.Input(name=\"label\", shape=(None,))\n",
    "\n",
    "    # First conv block.\n",
    "    x = keras.layers.Conv2D(\n",
    "        32,\n",
    "        (3, 3),\n",
    "        activation=\"relu\",\n",
    "        kernel_initializer=\"he_normal\",\n",
    "        padding=\"same\",\n",
    "        name=\"Conv1\",\n",
    "    )(input_img)\n",
    "    x = keras.layers.MaxPooling2D((2, 2), name=\"pool1\")(x)\n",
    "\n",
    "    # Second conv block.\n",
    "    x = keras.layers.Conv2D(\n",
    "        64,\n",
    "        (3, 3),\n",
    "        activation=\"relu\",\n",
    "        kernel_initializer=\"he_normal\",\n",
    "        padding=\"same\",\n",
    "        name=\"Conv2\",\n",
    "    )(x)\n",
    "    x = keras.layers.MaxPooling2D((2, 2), name=\"pool2\")(x)\n",
    "\n",
    "    # We have used two max pool with pool size and strides 2.\n",
    "    # Hence, downsampled feature maps are 4x smaller. The number of\n",
    "    # filters in the last layer is 64. Reshape accordingly before\n",
    "    # passing the output to the RNN part of the model.\n",
    "    new_shape = ((image_width // 4), (image_height // 4) * 64)\n",
    "    x = keras.layers.Reshape(target_shape=new_shape, name=\"reshape\")(x)\n",
    "    x = keras.layers.Dense(64, activation=\"relu\", name=\"dense1\")(x)\n",
    "    x = keras.layers.Dropout(0.2)(x)\n",
    "\n",
    "    # RNNs.\n",
    "    x = keras.layers.Bidirectional(\n",
    "        keras.layers.LSTM(128, return_sequences=True, dropout=0.25)\n",
    "    )(x)\n",
    "    x = keras.layers.Bidirectional(\n",
    "        keras.layers.LSTM(64, return_sequences=True, dropout=0.25)\n",
    "    )(x)\n",
    "\n",
    "    # +2 is to account for the two special tokens introduced by the CTC loss.\n",
    "    # The recommendation comes here: https://git.io/J0eXP.\n",
    "    x = keras.layers.Dense(\n",
    "        len(tokenize.get_vocabulary()) + 2, activation=\"softmax\", name=\"dense2\"\n",
    "    )(x)\n",
    "\n",
    "    # Add CTC layer for calculating CTC loss at each step.\n",
    "    output = CTCLayer(name=\"ctc_loss\")(labels, x)\n",
    "\n",
    "    # Define the model.\n",
    "    model = keras.models.Model(\n",
    "        inputs=[input_img, labels], outputs=output, name=\"handwriting_recognizer\"\n",
    "    )\n",
    "    # Optimizer.\n",
    "    opt = keras.optimizers.Adam()\n",
    "    # Compile the model and return.\n",
    "    model.compile(optimizer=opt)\n",
    "    return model"
   ]
  },
  {
   "cell_type": "code",
   "execution_count": 29,
   "id": "488982e1-6e4b-436f-9053-18e5882f8573",
   "metadata": {
    "tags": []
   },
   "outputs": [
    {
     "name": "stdout",
     "output_type": "stream",
     "text": [
      "Model: \"handwriting_recognizer\"\n",
      "__________________________________________________________________________________________________\n",
      " Layer (type)                Output Shape                 Param #   Connected to                  \n",
      "==================================================================================================\n",
      " image (InputLayer)          [(None, 128, 32, 1)]         0         []                            \n",
      "                                                                                                  \n",
      " Conv1 (Conv2D)              (None, 128, 32, 32)          320       ['image[0][0]']               \n",
      "                                                                                                  \n",
      " pool1 (MaxPooling2D)        (None, 64, 16, 32)           0         ['Conv1[0][0]']               \n",
      "                                                                                                  \n",
      " Conv2 (Conv2D)              (None, 64, 16, 64)           18496     ['pool1[0][0]']               \n",
      "                                                                                                  \n",
      " pool2 (MaxPooling2D)        (None, 32, 8, 64)            0         ['Conv2[0][0]']               \n",
      "                                                                                                  \n",
      " reshape (Reshape)           (None, 32, 512)              0         ['pool2[0][0]']               \n",
      "                                                                                                  \n",
      " dense1 (Dense)              (None, 32, 64)               32832     ['reshape[0][0]']             \n",
      "                                                                                                  \n",
      " dropout (Dropout)           (None, 32, 64)               0         ['dense1[0][0]']              \n",
      "                                                                                                  \n",
      " bidirectional (Bidirection  (None, 32, 256)              197632    ['dropout[0][0]']             \n",
      " al)                                                                                              \n",
      "                                                                                                  \n",
      " bidirectional_1 (Bidirecti  (None, 32, 128)              164352    ['bidirectional[0][0]']       \n",
      " onal)                                                                                            \n",
      "                                                                                                  \n",
      " label (InputLayer)          [(None, None)]               0         []                            \n",
      "                                                                                                  \n",
      " dense2 (Dense)              (None, 32, 81)               10449     ['bidirectional_1[0][0]']     \n",
      "                                                                                                  \n",
      " ctc_loss (CTCLayer)         (None, 32, 81)               0         ['label[0][0]',               \n",
      "                                                                     'dense2[0][0]']              \n",
      "                                                                                                  \n",
      "==================================================================================================\n",
      "Total params: 424081 (1.62 MB)\n",
      "Trainable params: 424081 (1.62 MB)\n",
      "Non-trainable params: 0 (0.00 Byte)\n",
      "__________________________________________________________________________________________________\n"
     ]
    }
   ],
   "source": [
    "# Model Summary\n",
    "model = build_model()\n",
    "model.summary()"
   ]
  },
  {
   "cell_type": "markdown",
   "id": "8a2c2be0-4011-4b77-b9c8-d0632d37e866",
   "metadata": {},
   "source": [
    "## Edit distance"
   ]
  },
  {
   "cell_type": "markdown",
   "id": "deac4569-1a9c-430b-9147-2ab95eddb5ad",
   "metadata": {},
   "source": [
    "Edit distance is a measure of the similarity between two strings in terms of the minimum number of edit operations required to transform one string into the other. Edit operations are things like insertions, deletions, and substitutions\n",
    "\n",
    "We will be using this metric to evaluate our model"
   ]
  },
  {
   "cell_type": "code",
   "execution_count": 30,
   "id": "e5e10ff1-1665-4be2-b4e2-a7f89a04fb5a",
   "metadata": {
    "tags": []
   },
   "outputs": [],
   "source": [
    "validation_images = []\n",
    "validation_labels = []\n",
    "\n",
    "for data in val_ds:\n",
    "    validation_images.append(data[\"image\"])\n",
    "    validation_labels.append(data[\"label\"])\n",
    "\n",
    "\n",
    "def calculate_edit_distance(labels, predictions):\n",
    "    '''\n",
    "    Calculates edit distance between label and the prediction. \n",
    "    \n",
    "    converts labels and predictions into tensors and utilizes tf.edit_distance()\n",
    "    \n",
    "    Source code can be found here: https://keras.io/examples/vision/handwriting_recognition/\n",
    "    \n",
    "    '''\n",
    "    # Get a single batch and convert its labels to sparse tensors.\n",
    "    sparse_labels = tf.cast(tf.sparse.from_dense(labels), dtype=tf.int64)\n",
    "\n",
    "    # Make predictions and convert them to sparse tensors.\n",
    "    input_len = np.ones(predictions.shape[0]) * predictions.shape[1]\n",
    "    predictions_decoded = keras.backend.ctc_decode(\n",
    "        predictions, input_length=input_len, greedy=True\n",
    "    )[0][0][:, :max_len]\n",
    "    sparse_predictions = tf.cast(\n",
    "        tf.sparse.from_dense(predictions_decoded), \n",
    "        dtype = tf.int64\n",
    "    )\n",
    "\n",
    "    # Compute individual edit distances and average them out.\n",
    "    edit_distances = tf.edit_distance(\n",
    "        sparse_predictions, \n",
    "        sparse_labels, \n",
    "        normalize=False\n",
    "    )\n",
    "    \n",
    "    return tf.reduce_mean(edit_distances)\n",
    "\n",
    "\n",
    "class EditDistanceCallback(keras.callbacks.Callback):\n",
    "    def __init__(self, pred_model):\n",
    "        super().__init__()\n",
    "        self.prediction_model = pred_model\n",
    "\n",
    "    def on_epoch_end(self, epoch, logs=None):\n",
    "        edit_distances = []\n",
    "\n",
    "        for i in range(len(validation_images)):\n",
    "            labels = validation_labels[i]\n",
    "            predictions = self.prediction_model.predict(validation_images[i])\n",
    "            edit_distances.append(calculate_edit_distance(labels, predictions).numpy())\n",
    "\n",
    "        print(\n",
    "            f\"Mean edit distance for epoch {epoch + 1}: {np.mean(edit_distances):.4f}\"\n",
    "        )"
   ]
  },
  {
   "cell_type": "markdown",
   "id": "794855c5-ed65-47a4-9d85-95c167384233",
   "metadata": {},
   "source": [
    "## Training"
   ]
  },
  {
   "cell_type": "markdown",
   "id": "ce618519-28b0-4d27-b6ae-1fb765042c4b",
   "metadata": {},
   "source": [
    "The following is markdown of the model Training. For illustrative purposes, we will be using a pickled model  for the rest of the notebook"
   ]
  },
  {
   "cell_type": "markdown",
   "id": "ff2a43a6-aab6-4979-826e-68efce182175",
   "metadata": {
    "tags": []
   },
   "source": [
    "```python\n",
    "model = build_model()\n",
    "\n",
    "# Creating a subset of the original model. \n",
    "#  This new model is used to make predictions on input data.\n",
    "prediction_model = keras.models.Model(\n",
    "    model.get_layer(name=\"image\").input, # input from the \"image\" layer of  model \n",
    "    model.get_layer(name=\"dense2\").output # produces the output from the \"dense2\" layer of model\n",
    ")\n",
    "edit_distance_callback = EditDistanceCallback(prediction_model)\n",
    "\n",
    "# Train the model.\n",
    "history = model.fit(\n",
    "    train_ds,\n",
    "    validation_data=val_ds,\n",
    "    epochs=50,\n",
    "    callbacks=[edit_distance_callback],\n",
    "    verbose = 2\n",
    ")\n",
    "```"
   ]
  },
  {
   "cell_type": "markdown",
   "id": "83fc8abc-ac2f-48f0-8656-766515c985ee",
   "metadata": {},
   "source": [
    "Plotting the loss change for the model"
   ]
  },
  {
   "cell_type": "code",
   "execution_count": 31,
   "id": "87c0f4e4-1ba4-4b3e-a239-9ec72bbeb6f8",
   "metadata": {},
   "outputs": [],
   "source": [
    "def plot_loss(history):\n",
    "    '''\n",
    "    Given a model history(history), plots val and train loss as epochs increase\n",
    "    \n",
    "    '''\n",
    "    loss = history.history['loss']\n",
    "    val_loss = history.history['val_loss']\n",
    "    epochs = range(1, len(loss) + 1)\n",
    "\n",
    "    plt.figure(figsize=(12, 4))\n",
    "    plt.subplot(1, 2,1)\n",
    "    plt.plot(epochs, loss, label='Training loss')\n",
    "    plt.plot(epochs, val_loss, label='Validation loss')\n",
    "    plt.title('Training and Validation Loss')\n",
    "    plt.xlabel('Epochs')\n",
    "    plt.ylabel('Edit Distance')\n",
    "    plt.legend()\n",
    "\n",
    "    plt.show()\n",
    "    \n",
    "#plot_loss(history)"
   ]
  },
  {
   "cell_type": "markdown",
   "id": "30daf4e3-1084-44df-80d1-91c7482d756f",
   "metadata": {},
   "source": [
    "Here's the output of plot_loss(history)\n",
    "\n",
    "<img src = ../media/loss_plot.PNG>\n"
   ]
  },
  {
   "cell_type": "markdown",
   "id": "9d7f125e-1c1e-40a5-a715-f82023f6ec51",
   "metadata": {
    "tags": []
   },
   "source": [
    "# Inference"
   ]
  },
  {
   "cell_type": "markdown",
   "id": "5721fb9e-9d16-408d-acb8-a9dcc19bd2b1",
   "metadata": {},
   "source": [
    "Let's investigate how to best use this model. Here we load a pretrained model"
   ]
  },
  {
   "cell_type": "markdown",
   "id": "3e5ae3a9-fdd0-4aa2-a522-0b203b2445b8",
   "metadata": {},
   "source": [
    "Refer to [true_inference.ipynb](code/true_inference.ipynb) for my inference methodologies"
   ]
  },
  {
   "cell_type": "code",
   "execution_count": 32,
   "id": "6fea7678-8de3-4c0d-9948-24c718ebe7d3",
   "metadata": {
    "tags": []
   },
   "outputs": [],
   "source": [
    "loaded_test= keras.models.load_model(\"../models_pickles/prediction_model_2.keras\", custom_objects={\n",
    "  'CTCLayer': CTCLayer\n",
    "})"
   ]
  },
  {
   "cell_type": "code",
   "execution_count": 34,
   "id": "5d178bad-cc99-4728-b035-ece21edc7a7d",
   "metadata": {
    "tags": []
   },
   "outputs": [
    {
     "name": "stdout",
     "output_type": "stream",
     "text": [
      "2/2 [==============================] - 1s 42ms/step\n",
      "Prediction shape: (64, 32, 81)\n",
      "Number of samples in data: 64\n",
      "Sequence Length: 32\n"
     ]
    }
   ],
   "source": [
    "for data in test_ds.take(1):\n",
    "    images = data['image']\n",
    "    labels = data['label']\n",
    "    \n",
    "    \n",
    "    preds = loaded_test.predict(images)\n",
    "    print(f'Prediction shape: {preds.shape}')\n",
    "    print(f'Number of samples in data: {preds.shape[0]}')\n",
    "    print(f'Sequence Length: {preds.shape[1]}')\n",
    "    "
   ]
  },
  {
   "cell_type": "markdown",
   "id": "a7977016-95b1-427b-b4e6-cca96c086faf",
   "metadata": {},
   "source": [
    "The network outputs are probabilities over character classes at each time step. In order to interpret these, we need to use a ctc decoder. Keras has one: keras.backend.ctc_decode()\n",
    "\n",
    "Here's a utility function that uses the decoder to interpret the predictions"
   ]
  },
  {
   "cell_type": "code",
   "execution_count": 35,
   "id": "cc5e106e-9109-48a9-8ba9-6b99fa33b76b",
   "metadata": {
    "tags": []
   },
   "outputs": [],
   "source": [
    "def decode_batch_predictions(pred, max_len = 21):\n",
    "    '''\n",
    "    Converts the model.predict() sequences into meaningful text sequences\n",
    "    *REQUIRES* the 'untokenize' StringLookup() object created earlier in the notebook\n",
    "    \n",
    "    Input: pred - predictions from the model\n",
    "           max_len - max sequence length used when creating the tokenize/untokenize objects - default is 21\n",
    "    \n",
    "    Output:  returns a list of the decoded text for each input sequence in the batch\n",
    "    \n",
    "    '''\n",
    "    \n",
    "    # Decode the sequences from model.predict()\n",
    "    results = keras.backend.ctc_decode(\n",
    "        pred, \n",
    "        input_length = np.ones(pred.shape[0]) * pred.shape[1], # a NumPy array of ones multiplied by the length of the predictions \n",
    "        greedy=True)[0][0][:, :max_len] # ensures that the sequences don't exceed the max_len\n",
    "    \n",
    "    \n",
    "    # Iterate over the decoded results and obtain the text.\n",
    "    output_text = []\n",
    "    for res in results:\n",
    "        \n",
    "        # remove -1 (blank label) from the decoded result\n",
    "        res = tf.gather(res, tf.where(tf.math.not_equal(res, -1)))\n",
    "        \n",
    "        # uses the untokenize object(from where we tokenized the labels) to turn the integers into strings\n",
    "        res = tf.strings.reduce_join(untokenize(res)).numpy().decode(\"utf-8\")\n",
    "        \n",
    "        output_text.append(res)\n",
    "        \n",
    "    return output_text"
   ]
  }
 ],
 "metadata": {
  "kernelspec": {
   "display_name": "Python 3 (ipykernel)",
   "language": "python",
   "name": "python3"
  },
  "language_info": {
   "codemirror_mode": {
    "name": "ipython",
    "version": 3
   },
   "file_extension": ".py",
   "mimetype": "text/x-python",
   "name": "python",
   "nbconvert_exporter": "python",
   "pygments_lexer": "ipython3",
   "version": "3.11.5"
  }
 },
 "nbformat": 4,
 "nbformat_minor": 5
}
